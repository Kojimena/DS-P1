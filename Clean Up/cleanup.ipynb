{
 "cells": [
  {
   "cell_type": "code",
   "execution_count": 1,
   "metadata": {},
   "outputs": [],
   "source": [
    "import pandas as pd\n",
    "import numpy as np\n",
    "import matplotlib.pyplot as plt\n",
    "\n",
    "import os"
   ]
  },
  {
   "cell_type": "code",
   "execution_count": 2,
   "metadata": {},
   "outputs": [],
   "source": [
    "# Cargar el archivo CSV\n",
    "df = pd.read_csv('../data_csv/total.csv', sep=';', header=None, encoding='utf-8', on_bad_lines='skip')\n",
    "\n",
    "# Definir una función para identificar filas irrelevantes o erróneas\n",
    "def es_fila_valida(fila):\n",
    "    # Comprobar si la fila está completamente vacía\n",
    "    if fila.isnull().all():\n",
    "        return False\n",
    "    # Comprobar si la fila contiene texto que indica que es irrelevante\n",
    "    textos_irrelevantes = [\"Establecimientos encontrados\", \"alert(\"]\n",
    "    for texto in textos_irrelevantes:\n",
    "        if fila.astype(str).str.contains(texto, regex=False).any():\n",
    "            return False\n",
    "    return True\n",
    "\n",
    "# Filtrar el DataFrame para mantener solo las filas válidas\n",
    "df_limpio = df[df.apply(es_fila_valida, axis=1)]\n",
    "\n",
    "# Guardar el DataFrame limpio en un nuevo archivo CSV\n",
    "df_limpio.to_csv('../data_csv/total_revisado.csv', sep=';', index=False, header=False)"
   ]
  }
 ],
 "metadata": {
  "kernelspec": {
   "display_name": "Python 3",
   "language": "python",
   "name": "python3"
  },
  "language_info": {
   "codemirror_mode": {
    "name": "ipython",
    "version": 3
   },
   "file_extension": ".py",
   "mimetype": "text/x-python",
   "name": "python",
   "nbconvert_exporter": "python",
   "pygments_lexer": "ipython3",
   "version": "3.12.3"
  }
 },
 "nbformat": 4,
 "nbformat_minor": 2
}
